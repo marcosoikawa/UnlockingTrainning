{
 "cells": [
  {
   "cell_type": "markdown",
   "id": "6b516632",
   "metadata": {},
   "source": [
    "# Multi-Agent MCP Example"
   ]
  },
  {
   "cell_type": "code",
   "execution_count": 129,
   "id": "12cbca44",
   "metadata": {},
   "outputs": [],
   "source": [
    "import os, time\n",
    "from dotenv import load_dotenv\n",
    "from typing import Optional, Set\n",
    "\n",
    "from azure.identity import DefaultAzureCredential\n",
    "from azure.ai.agents import AgentsClient\n",
    "from azure.ai.agents.models import FunctionTool, ToolSet, McpTool\n",
    "from utils.agent_team import AgentTeam, AgentTask"
   ]
  },
  {
   "cell_type": "code",
   "execution_count": 130,
   "id": "c0f9c316",
   "metadata": {},
   "outputs": [],
   "source": [
    "load_dotenv()\n",
    "# Initialize the AI Project Client\n",
    "agent_client = AgentsClient(\n",
    "    endpoint=os.getenv(\"PROJECT_ENDPOINT\"),\n",
    "    credential=DefaultAzureCredential()\n",
    ")"
   ]
  },
  {
   "cell_type": "code",
   "execution_count": 131,
   "id": "7725a471",
   "metadata": {},
   "outputs": [
    {
     "name": "stdout",
     "output_type": "stream",
     "text": [
      "Using MCP server: msdocs at https://learn.microsoft.com/api/mcp\n"
     ]
    }
   ],
   "source": [
    "# Get the MCP server configuration from environment variables\n",
    "mcp_server_url = os.environ.get(\"MCP_MSFT_DOCS_SERVER\")\n",
    "mcp_server_label = \"msdocs\"\n",
    "\n",
    "print(f\"Using MCP server: {mcp_server_label} at {mcp_server_url}\")\n",
    "\n",
    "msft_docs_mcp_tool = McpTool(\n",
    "    server_label=mcp_server_label,\n",
    "    server_url=mcp_server_url,\n",
    ")\n",
    "\n",
    "msft_docs_mcp_tool.set_approval_mode(\"never\")"
   ]
  },
  {
   "cell_type": "code",
   "execution_count": 132,
   "id": "836b6275",
   "metadata": {},
   "outputs": [],
   "source": [
    "def create_task(team_name: str, recipient: str, request: str, requestor: str) -> str:\n",
    "    \"\"\"\n",
    "    Requests another agent in the team to complete a task.\n",
    "\n",
    "    :param team_name (str): The name of the team.\n",
    "    :param recipient (str): The name of the agent that is being requested to complete the task.\n",
    "    :param request (str): A description of the to complete. This can also be a question.\n",
    "    :param requestor (str): The name of the agent who is requesting the task.\n",
    "    :return: True if the task was successfully received, False otherwise.\n",
    "    :rtype: str\n",
    "    \"\"\"\n",
    "    task = AgentTask(recipient=recipient, task_description=request, requestor=requestor)\n",
    "    team: Optional[AgentTeam] = None\n",
    "    try:\n",
    "        team = AgentTeam.get_team(team_name)\n",
    "    except:\n",
    "        pass\n",
    "    if team is not None:\n",
    "        team.add_task(task)\n",
    "        return \"True\"\n",
    "    return \"False\"\n",
    "\n",
    "\n",
    "# Any additional functions that might be used by the agents:\n",
    "agent_team_default_functions: Set = {\n",
    "    create_task,\n",
    "}\n",
    "\n",
    "default_function_tool = FunctionTool(functions=agent_team_default_functions)"
   ]
  },
  {
   "cell_type": "code",
   "execution_count": 133,
   "id": "9f1767b4",
   "metadata": {},
   "outputs": [],
   "source": [
    "agent_team = AgentTeam(\"account_team\", agents_client=agent_client)"
   ]
  },
  {
   "cell_type": "code",
   "execution_count": 134,
   "id": "92430152",
   "metadata": {},
   "outputs": [],
   "source": [
    "account_manager_toolset = ToolSet()\n",
    "account_manager_toolset.add(default_function_tool)\n"
   ]
  },
  {
   "cell_type": "code",
   "execution_count": 135,
   "id": "2d6e0b56",
   "metadata": {},
   "outputs": [],
   "source": [
    "agent_team.set_team_leader(\n",
    "    model=os.environ[\"MODEL_DEPLOYMENT_NAME\"],\n",
    "    name=\"TeamLeader\",\n",
    "    instructions=(\n",
    "        \"You are an agent named 'TeamLeader'. You are a leader of a team of agents. The name of your team is 'account_team'. \"\n",
    "        \"You are an agent that is responsible for receiving requests from user and utilizing a team of agents to complete the task. \"\n",
    "        \"When you are passed a request, the only thing you will do is evaluate which team member should do which task next to complete the request. \"\n",
    "        \"You will use the provided create_task function to create a task for the agent that is best suited for handling the task next. \"\n",
    "        \"You will respond with the description of who you assigned the task and why. When you think that the original user request is \"\n",
    "        \"processed completely utilizing all the talent available in the team, you do not have to create anymore tasks. \"\n",
    "        \"Using the skills of all the team members when applicable is highly valued. \"\n",
    "        \"Do not create parallel tasks. \"\n",
    "        \"Here are the other agents in your team: \"\n",
    "        \"- Specialist: You are an expert in Azure services and tools. Your task is to assist users with their Azure-related questions and tasks. Your name is Specialist. \"\n",
    "        \"- Engineer: You are an engineer who specializes in architecting and implementing solutions on Azure. Your task is to review recommended solutions for a request and validate that they meet the requirements. Your name is Engineer. \"\n",
    "    ),\n",
    "    toolset=account_manager_toolset,\n",
    ")"
   ]
  },
  {
   "cell_type": "code",
   "execution_count": 136,
   "id": "71d28be0",
   "metadata": {},
   "outputs": [],
   "source": [
    "specialist_toolset = ToolSet()\n",
    "specialist_toolset.add(msft_docs_mcp_tool)"
   ]
  },
  {
   "cell_type": "code",
   "execution_count": 137,
   "id": "47fa1fe5",
   "metadata": {},
   "outputs": [],
   "source": [
    "agent_team.add_agent(\n",
    "    model=os.environ[\"MODEL_DEPLOYMENT_NAME\"],\n",
    "    name=\"Specialist\",\n",
    "    instructions=\"\"\"\n",
    "            You are an expert in Azure services and tools. Your task is to assist users with their Azure-related questions and tasks. Your name is Specialist.\n",
    "            \n",
    "            Use the MCP tool to: \n",
    "            - Access the latest Azure documentation and resources to provide accurate and up-to-date information.\n",
    "            - Share useful links, code snippets, and explanations based on the user's request.\n",
    "            - Perform tasks such as retrieving documentation, checking service status, and providing guidance on Azure best practices.\n",
    "\n",
    "            When a user asks a question or requests assistance, you will use the MCP tool to find relevant information and provide a response. \n",
    "            If the MCP tool is not available, you will inform the user that the tool is not available and cannot assist with their request.\n",
    "            Ensure that your responses are clear, concise, and relevant to the user's request. Do not provide any unverified information.\n",
    "            If you are unable to assist with a request, inform the user that you cannot help with that request at this time.\n",
    "    \"\"\",\n",
    "    toolset=specialist_toolset,\n",
    ")"
   ]
  },
  {
   "cell_type": "code",
   "execution_count": 138,
   "id": "b19771d8",
   "metadata": {},
   "outputs": [],
   "source": [
    "agent_team.add_agent(\n",
    "    model=os.environ[\"MODEL_DEPLOYMENT_NAME\"],\n",
    "    name=\"Engineer\",\n",
    "    instructions=\"\"\"\n",
    "            You are an engineer who specializes in architecting and implementing solutions on Azure. Your name is Engineer.\n",
    "            Your task is to review recommended solutions for a request and validate that they meet the requirements.\n",
    "\n",
    "            Use the MCP tool to: \n",
    "            - Ensure that all solutions are necessary to implement an architecture.\n",
    "            - Determine if two solutions meet the same requirement and are not meant to be used in combination to implement an architecture.\n",
    "            - Ensure that the selected solutions will produce an architecture that aligns with best practices.\n",
    "            - Perform tasks such as retrieving documentation.            \n",
    "\n",
    "            If two solutions meet the same requirement and are not meant to be used in combination to implement an architecture, pick the best solution, and update the recommendation. \n",
    "            Remove solutions from the recommendation that do not meet the requirements or are not necessary to implement an architecture.     \n",
    "    \"\"\",\n",
    "    toolset=specialist_toolset,\n",
    ")"
   ]
  },
  {
   "cell_type": "code",
   "execution_count": 139,
   "id": "17cee036",
   "metadata": {},
   "outputs": [
    {
     "name": "stderr",
     "output_type": "stream",
     "text": [
      "DefaultAzureCredential failed to retrieve a token from the included credentials.\n",
      "Attempted credentials:\n",
      "\tEnvironmentCredential: EnvironmentCredential authentication unavailable. Environment variables are not fully configured.\n",
      "Visit https://aka.ms/azsdk/python/identity/environmentcredential/troubleshoot to troubleshoot this issue.\n",
      "\tWorkloadIdentityCredential: WorkloadIdentityCredential authentication unavailable. The workload options are not fully configured. See the troubleshooting guide for more information: https://aka.ms/azsdk/python/identity/workloadidentitycredential/troubleshoot. Missing required arguments: 'tenant_id', 'client_id', 'token_file_path'.\n",
      "\tManagedIdentityCredential: ManagedIdentityCredential authentication unavailable, no response from the IMDS endpoint. invalid_request\n",
      "\tSharedTokenCacheCredential: SharedTokenCacheCredential authentication unavailable. No accounts were found in the cache.\n",
      "\tVisualStudioCodeCredential: VisualStudioCodeCredential requires the user to be signed in to Azure via Visual Studio Code. Please ensure you have the Azure Resources extension installed and have signed in.\n",
      "\tAzureCliCredential: Please run 'az login' to set up an account\n",
      "\tAzurePowerShellCredential: PowerShell is not installed\n",
      "\tAzureDeveloperCliCredential: Azure Developer CLI could not be found. Please visit https://aka.ms/azure-dev for installation instructions and then,once installed, authenticate to your Azure account using 'azd auth login'.\n",
      "\tBrokerCredential: InteractiveBrowserBrokerCredential unavailable. Brokered authentication is only supported on Windows and WSL platforms.\n",
      "To mitigate this issue, please refer to the troubleshooting guidelines here at https://aka.ms/azsdk/python/identity/defaultazurecredential/troubleshoot.\n"
     ]
    },
    {
     "ename": "ClientAuthenticationError",
     "evalue": "DefaultAzureCredential failed to retrieve a token from the included credentials.\nAttempted credentials:\n\tEnvironmentCredential: EnvironmentCredential authentication unavailable. Environment variables are not fully configured.\nVisit https://aka.ms/azsdk/python/identity/environmentcredential/troubleshoot to troubleshoot this issue.\n\tWorkloadIdentityCredential: WorkloadIdentityCredential authentication unavailable. The workload options are not fully configured. See the troubleshooting guide for more information: https://aka.ms/azsdk/python/identity/workloadidentitycredential/troubleshoot. Missing required arguments: 'tenant_id', 'client_id', 'token_file_path'.\n\tManagedIdentityCredential: ManagedIdentityCredential authentication unavailable, no response from the IMDS endpoint. invalid_request\n\tSharedTokenCacheCredential: SharedTokenCacheCredential authentication unavailable. No accounts were found in the cache.\n\tVisualStudioCodeCredential: VisualStudioCodeCredential requires the user to be signed in to Azure via Visual Studio Code. Please ensure you have the Azure Resources extension installed and have signed in.\n\tAzureCliCredential: Please run 'az login' to set up an account\n\tAzurePowerShellCredential: PowerShell is not installed\n\tAzureDeveloperCliCredential: Azure Developer CLI could not be found. Please visit https://aka.ms/azure-dev for installation instructions and then,once installed, authenticate to your Azure account using 'azd auth login'.\n\tBrokerCredential: InteractiveBrowserBrokerCredential unavailable. Brokered authentication is only supported on Windows and WSL platforms.\nTo mitigate this issue, please refer to the troubleshooting guidelines here at https://aka.ms/azsdk/python/identity/defaultazurecredential/troubleshoot.",
     "output_type": "error",
     "traceback": [
      "\u001b[31m---------------------------------------------------------------------------\u001b[39m",
      "\u001b[31mClientAuthenticationError\u001b[39m                 Traceback (most recent call last)",
      "\u001b[36mCell\u001b[39m\u001b[36m \u001b[39m\u001b[32mIn[139]\u001b[39m\u001b[32m, line 1\u001b[39m\n\u001b[32m----> \u001b[39m\u001b[32m1\u001b[39m \u001b[43magent_team\u001b[49m\u001b[43m.\u001b[49m\u001b[43massemble_team\u001b[49m\u001b[43m(\u001b[49m\u001b[43m)\u001b[49m\n",
      "\u001b[36mFile \u001b[39m\u001b[32m/workspaces/UnlockingTrainning/utils/agent_team.py:229\u001b[39m, in \u001b[36mAgentTeam.assemble_team\u001b[39m\u001b[34m(self)\u001b[39m\n\u001b[32m    226\u001b[39m \u001b[38;5;28;01mif\u001b[39;00m \u001b[38;5;28mself\u001b[39m._team_leader \u001b[38;5;129;01mis\u001b[39;00m \u001b[38;5;28;01mNone\u001b[39;00m:\n\u001b[32m    227\u001b[39m     \u001b[38;5;28mself\u001b[39m._set_default_team_leader()\n\u001b[32m--> \u001b[39m\u001b[32m229\u001b[39m \u001b[38;5;28;43mself\u001b[39;49m\u001b[43m.\u001b[49m\u001b[43m_create_team_leader\u001b[49m\u001b[43m(\u001b[49m\u001b[43m)\u001b[49m\n\u001b[32m    231\u001b[39m \u001b[38;5;28;01mfor\u001b[39;00m member \u001b[38;5;129;01min\u001b[39;00m \u001b[38;5;28mself\u001b[39m._members:\n\u001b[32m    232\u001b[39m     \u001b[38;5;28;01mif\u001b[39;00m member \u001b[38;5;129;01mis\u001b[39;00m \u001b[38;5;28mself\u001b[39m._team_leader:\n",
      "\u001b[36mFile \u001b[39m\u001b[32m/workspaces/UnlockingTrainning/utils/agent_team.py:193\u001b[39m, in \u001b[36mAgentTeam._create_team_leader\u001b[39m\u001b[34m(self)\u001b[39m\n\u001b[32m    190\u001b[39m \u001b[38;5;28;01massert\u001b[39;00m \u001b[38;5;28mself\u001b[39m._agents_client \u001b[38;5;129;01mis\u001b[39;00m \u001b[38;5;129;01mnot\u001b[39;00m \u001b[38;5;28;01mNone\u001b[39;00m, \u001b[33m\"\u001b[39m\u001b[33magents_client must not be None\u001b[39m\u001b[33m\"\u001b[39m\n\u001b[32m    191\u001b[39m \u001b[38;5;28;01massert\u001b[39;00m \u001b[38;5;28mself\u001b[39m._team_leader \u001b[38;5;129;01mis\u001b[39;00m \u001b[38;5;129;01mnot\u001b[39;00m \u001b[38;5;28;01mNone\u001b[39;00m, \u001b[33m\"\u001b[39m\u001b[33mteam leader has not been added\u001b[39m\u001b[33m\"\u001b[39m\n\u001b[32m--> \u001b[39m\u001b[32m193\u001b[39m \u001b[38;5;28mself\u001b[39m._team_leader.agent_instance = \u001b[38;5;28;43mself\u001b[39;49m\u001b[43m.\u001b[49m\u001b[43m_agents_client\u001b[49m\u001b[43m.\u001b[49m\u001b[43mcreate_agent\u001b[49m\u001b[43m(\u001b[49m\n\u001b[32m    194\u001b[39m \u001b[43m    \u001b[49m\u001b[43mmodel\u001b[49m\u001b[43m=\u001b[49m\u001b[38;5;28;43mself\u001b[39;49m\u001b[43m.\u001b[49m\u001b[43m_team_leader\u001b[49m\u001b[43m.\u001b[49m\u001b[43mmodel\u001b[49m\u001b[43m,\u001b[49m\n\u001b[32m    195\u001b[39m \u001b[43m    \u001b[49m\u001b[43mname\u001b[49m\u001b[43m=\u001b[49m\u001b[38;5;28;43mself\u001b[39;49m\u001b[43m.\u001b[49m\u001b[43m_team_leader\u001b[49m\u001b[43m.\u001b[49m\u001b[43mname\u001b[49m\u001b[43m,\u001b[49m\n\u001b[32m    196\u001b[39m \u001b[43m    \u001b[49m\u001b[43minstructions\u001b[49m\u001b[43m=\u001b[49m\u001b[38;5;28;43mself\u001b[39;49m\u001b[43m.\u001b[49m\u001b[43m_team_leader\u001b[49m\u001b[43m.\u001b[49m\u001b[43minstructions\u001b[49m\u001b[43m,\u001b[49m\n\u001b[32m    197\u001b[39m \u001b[43m    \u001b[49m\u001b[43mtoolset\u001b[49m\u001b[43m=\u001b[49m\u001b[38;5;28;43mself\u001b[39;49m\u001b[43m.\u001b[49m\u001b[43m_team_leader\u001b[49m\u001b[43m.\u001b[49m\u001b[43mtoolset\u001b[49m\u001b[43m,\u001b[49m\n\u001b[32m    198\u001b[39m \u001b[43m\u001b[49m\u001b[43m)\u001b[49m\n",
      "\u001b[36mFile \u001b[39m\u001b[32m~/.local/lib/python3.12/site-packages/azure/core/tracing/decorator.py:119\u001b[39m, in \u001b[36mdistributed_trace.<locals>.decorator.<locals>.wrapper_use_tracer\u001b[39m\u001b[34m(*args, **kwargs)\u001b[39m\n\u001b[32m    117\u001b[39m \u001b[38;5;66;03m# If tracing is disabled globally and user didn't explicitly enable it, don't trace.\u001b[39;00m\n\u001b[32m    118\u001b[39m \u001b[38;5;28;01mif\u001b[39;00m user_enabled \u001b[38;5;129;01mis\u001b[39;00m \u001b[38;5;28;01mFalse\u001b[39;00m \u001b[38;5;129;01mor\u001b[39;00m (\u001b[38;5;129;01mnot\u001b[39;00m tracing_enabled \u001b[38;5;129;01mand\u001b[39;00m user_enabled \u001b[38;5;129;01mis\u001b[39;00m \u001b[38;5;28;01mNone\u001b[39;00m):\n\u001b[32m--> \u001b[39m\u001b[32m119\u001b[39m     \u001b[38;5;28;01mreturn\u001b[39;00m \u001b[43mfunc\u001b[49m\u001b[43m(\u001b[49m\u001b[43m*\u001b[49m\u001b[43margs\u001b[49m\u001b[43m,\u001b[49m\u001b[43m \u001b[49m\u001b[43m*\u001b[49m\u001b[43m*\u001b[49m\u001b[43mkwargs\u001b[49m\u001b[43m)\u001b[49m\n\u001b[32m    121\u001b[39m \u001b[38;5;66;03m# Merge span is parameter is set, but only if no explicit parent are passed\u001b[39;00m\n\u001b[32m    122\u001b[39m \u001b[38;5;28;01mif\u001b[39;00m merge_span \u001b[38;5;129;01mand\u001b[39;00m \u001b[38;5;129;01mnot\u001b[39;00m passed_in_parent:\n",
      "\u001b[36mFile \u001b[39m\u001b[32m~/.local/lib/python3.12/site-packages/azure/ai/agents/_patch.py:322\u001b[39m, in \u001b[36mAgentsClient.create_agent\u001b[39m\u001b[34m(self, body, model, name, description, instructions, tools, tool_resources, toolset, temperature, top_p, response_format, metadata, content_type, **kwargs)\u001b[39m\n\u001b[32m    319\u001b[39m     tools = toolset.definitions\n\u001b[32m    320\u001b[39m     tool_resources = toolset.resources\n\u001b[32m--> \u001b[39m\u001b[32m322\u001b[39m new_agent = \u001b[38;5;28;43msuper\u001b[39;49m\u001b[43m(\u001b[49m\u001b[43m)\u001b[49m\u001b[43m.\u001b[49m\u001b[43mcreate_agent\u001b[49m\u001b[43m(\u001b[49m\n\u001b[32m    323\u001b[39m \u001b[43m    \u001b[49m\u001b[43mmodel\u001b[49m\u001b[43m=\u001b[49m\u001b[43mmodel\u001b[49m\u001b[43m,\u001b[49m\n\u001b[32m    324\u001b[39m \u001b[43m    \u001b[49m\u001b[43mname\u001b[49m\u001b[43m=\u001b[49m\u001b[43mname\u001b[49m\u001b[43m,\u001b[49m\n\u001b[32m    325\u001b[39m \u001b[43m    \u001b[49m\u001b[43mdescription\u001b[49m\u001b[43m=\u001b[49m\u001b[43mdescription\u001b[49m\u001b[43m,\u001b[49m\n\u001b[32m    326\u001b[39m \u001b[43m    \u001b[49m\u001b[43minstructions\u001b[49m\u001b[43m=\u001b[49m\u001b[43minstructions\u001b[49m\u001b[43m,\u001b[49m\n\u001b[32m    327\u001b[39m \u001b[43m    \u001b[49m\u001b[43mtools\u001b[49m\u001b[43m=\u001b[49m\u001b[43mtools\u001b[49m\u001b[43m,\u001b[49m\n\u001b[32m    328\u001b[39m \u001b[43m    \u001b[49m\u001b[43mtool_resources\u001b[49m\u001b[43m=\u001b[49m\u001b[43mtool_resources\u001b[49m\u001b[43m,\u001b[49m\n\u001b[32m    329\u001b[39m \u001b[43m    \u001b[49m\u001b[43mtemperature\u001b[49m\u001b[43m=\u001b[49m\u001b[43mtemperature\u001b[49m\u001b[43m,\u001b[49m\n\u001b[32m    330\u001b[39m \u001b[43m    \u001b[49m\u001b[43mtop_p\u001b[49m\u001b[43m=\u001b[49m\u001b[43mtop_p\u001b[49m\u001b[43m,\u001b[49m\n\u001b[32m    331\u001b[39m \u001b[43m    \u001b[49m\u001b[43mresponse_format\u001b[49m\u001b[43m=\u001b[49m\u001b[43mresponse_format\u001b[49m\u001b[43m,\u001b[49m\n\u001b[32m    332\u001b[39m \u001b[43m    \u001b[49m\u001b[43mmetadata\u001b[49m\u001b[43m=\u001b[49m\u001b[43mmetadata\u001b[49m\u001b[43m,\u001b[49m\n\u001b[32m    333\u001b[39m \u001b[43m    \u001b[49m\u001b[43m*\u001b[49m\u001b[43m*\u001b[49m\u001b[43mkwargs\u001b[49m\u001b[43m,\u001b[49m\n\u001b[32m    334\u001b[39m \u001b[43m\u001b[49m\u001b[43m)\u001b[49m\n\u001b[32m    336\u001b[39m \u001b[38;5;28;01mreturn\u001b[39;00m new_agent\n",
      "\u001b[36mFile \u001b[39m\u001b[32m~/.local/lib/python3.12/site-packages/azure/core/tracing/decorator.py:119\u001b[39m, in \u001b[36mdistributed_trace.<locals>.decorator.<locals>.wrapper_use_tracer\u001b[39m\u001b[34m(*args, **kwargs)\u001b[39m\n\u001b[32m    117\u001b[39m \u001b[38;5;66;03m# If tracing is disabled globally and user didn't explicitly enable it, don't trace.\u001b[39;00m\n\u001b[32m    118\u001b[39m \u001b[38;5;28;01mif\u001b[39;00m user_enabled \u001b[38;5;129;01mis\u001b[39;00m \u001b[38;5;28;01mFalse\u001b[39;00m \u001b[38;5;129;01mor\u001b[39;00m (\u001b[38;5;129;01mnot\u001b[39;00m tracing_enabled \u001b[38;5;129;01mand\u001b[39;00m user_enabled \u001b[38;5;129;01mis\u001b[39;00m \u001b[38;5;28;01mNone\u001b[39;00m):\n\u001b[32m--> \u001b[39m\u001b[32m119\u001b[39m     \u001b[38;5;28;01mreturn\u001b[39;00m \u001b[43mfunc\u001b[49m\u001b[43m(\u001b[49m\u001b[43m*\u001b[49m\u001b[43margs\u001b[49m\u001b[43m,\u001b[49m\u001b[43m \u001b[49m\u001b[43m*\u001b[49m\u001b[43m*\u001b[49m\u001b[43mkwargs\u001b[49m\u001b[43m)\u001b[49m\n\u001b[32m    121\u001b[39m \u001b[38;5;66;03m# Merge span is parameter is set, but only if no explicit parent are passed\u001b[39;00m\n\u001b[32m    122\u001b[39m \u001b[38;5;28;01mif\u001b[39;00m merge_span \u001b[38;5;129;01mand\u001b[39;00m \u001b[38;5;129;01mnot\u001b[39;00m passed_in_parent:\n",
      "\u001b[36mFile \u001b[39m\u001b[32m~/.local/lib/python3.12/site-packages/azure/ai/agents/operations/_operations.py:5315\u001b[39m, in \u001b[36m_AgentsClientOperationsMixin.create_agent\u001b[39m\u001b[34m(self, body, model, name, description, instructions, tools, tool_resources, temperature, top_p, response_format, metadata, **kwargs)\u001b[39m\n\u001b[32m   5312\u001b[39m _request.url = \u001b[38;5;28mself\u001b[39m._client.format_url(_request.url, **path_format_arguments)\n\u001b[32m   5314\u001b[39m _stream = kwargs.pop(\u001b[33m\"\u001b[39m\u001b[33mstream\u001b[39m\u001b[33m\"\u001b[39m, \u001b[38;5;28;01mFalse\u001b[39;00m)\n\u001b[32m-> \u001b[39m\u001b[32m5315\u001b[39m pipeline_response: PipelineResponse = \u001b[38;5;28;43mself\u001b[39;49m\u001b[43m.\u001b[49m\u001b[43m_client\u001b[49m\u001b[43m.\u001b[49m\u001b[43m_pipeline\u001b[49m\u001b[43m.\u001b[49m\u001b[43mrun\u001b[49m\u001b[43m(\u001b[49m\u001b[43m  \u001b[49m\u001b[38;5;66;43;03m# pylint: disable=protected-access\u001b[39;49;00m\n\u001b[32m   5316\u001b[39m \u001b[43m    \u001b[49m\u001b[43m_request\u001b[49m\u001b[43m,\u001b[49m\u001b[43m \u001b[49m\u001b[43mstream\u001b[49m\u001b[43m=\u001b[49m\u001b[43m_stream\u001b[49m\u001b[43m,\u001b[49m\u001b[43m \u001b[49m\u001b[43m*\u001b[49m\u001b[43m*\u001b[49m\u001b[43mkwargs\u001b[49m\n\u001b[32m   5317\u001b[39m \u001b[43m\u001b[49m\u001b[43m)\u001b[49m\n\u001b[32m   5319\u001b[39m response = pipeline_response.http_response\n\u001b[32m   5321\u001b[39m \u001b[38;5;28;01mif\u001b[39;00m response.status_code \u001b[38;5;129;01mnot\u001b[39;00m \u001b[38;5;129;01min\u001b[39;00m [\u001b[32m200\u001b[39m]:\n",
      "\u001b[36mFile \u001b[39m\u001b[32m~/.local/lib/python3.12/site-packages/azure/core/pipeline/_base.py:242\u001b[39m, in \u001b[36mPipeline.run\u001b[39m\u001b[34m(self, request, **kwargs)\u001b[39m\n\u001b[32m    240\u001b[39m pipeline_request: PipelineRequest[HTTPRequestType] = PipelineRequest(request, context)\n\u001b[32m    241\u001b[39m first_node = \u001b[38;5;28mself\u001b[39m._impl_policies[\u001b[32m0\u001b[39m] \u001b[38;5;28;01mif\u001b[39;00m \u001b[38;5;28mself\u001b[39m._impl_policies \u001b[38;5;28;01melse\u001b[39;00m _TransportRunner(\u001b[38;5;28mself\u001b[39m._transport)\n\u001b[32m--> \u001b[39m\u001b[32m242\u001b[39m \u001b[38;5;28;01mreturn\u001b[39;00m \u001b[43mfirst_node\u001b[49m\u001b[43m.\u001b[49m\u001b[43msend\u001b[49m\u001b[43m(\u001b[49m\u001b[43mpipeline_request\u001b[49m\u001b[43m)\u001b[49m\n",
      "\u001b[36mFile \u001b[39m\u001b[32m~/.local/lib/python3.12/site-packages/azure/core/pipeline/_base.py:98\u001b[39m, in \u001b[36m_SansIOHTTPPolicyRunner.send\u001b[39m\u001b[34m(self, request)\u001b[39m\n\u001b[32m     96\u001b[39m _await_result(\u001b[38;5;28mself\u001b[39m._policy.on_request, request)\n\u001b[32m     97\u001b[39m \u001b[38;5;28;01mtry\u001b[39;00m:\n\u001b[32m---> \u001b[39m\u001b[32m98\u001b[39m     response = \u001b[38;5;28;43mself\u001b[39;49m\u001b[43m.\u001b[49m\u001b[43mnext\u001b[49m\u001b[43m.\u001b[49m\u001b[43msend\u001b[49m\u001b[43m(\u001b[49m\u001b[43mrequest\u001b[49m\u001b[43m)\u001b[49m\n\u001b[32m     99\u001b[39m \u001b[38;5;28;01mexcept\u001b[39;00m \u001b[38;5;167;01mException\u001b[39;00m:\n\u001b[32m    100\u001b[39m     _await_result(\u001b[38;5;28mself\u001b[39m._policy.on_exception, request)\n",
      "\u001b[36mFile \u001b[39m\u001b[32m~/.local/lib/python3.12/site-packages/azure/core/pipeline/_base.py:98\u001b[39m, in \u001b[36m_SansIOHTTPPolicyRunner.send\u001b[39m\u001b[34m(self, request)\u001b[39m\n\u001b[32m     96\u001b[39m _await_result(\u001b[38;5;28mself\u001b[39m._policy.on_request, request)\n\u001b[32m     97\u001b[39m \u001b[38;5;28;01mtry\u001b[39;00m:\n\u001b[32m---> \u001b[39m\u001b[32m98\u001b[39m     response = \u001b[38;5;28;43mself\u001b[39;49m\u001b[43m.\u001b[49m\u001b[43mnext\u001b[49m\u001b[43m.\u001b[49m\u001b[43msend\u001b[49m\u001b[43m(\u001b[49m\u001b[43mrequest\u001b[49m\u001b[43m)\u001b[49m\n\u001b[32m     99\u001b[39m \u001b[38;5;28;01mexcept\u001b[39;00m \u001b[38;5;167;01mException\u001b[39;00m:\n\u001b[32m    100\u001b[39m     _await_result(\u001b[38;5;28mself\u001b[39m._policy.on_exception, request)\n",
      "    \u001b[31m[... skipping similar frames: _SansIOHTTPPolicyRunner.send at line 98 (2 times)]\u001b[39m\n",
      "\u001b[36mFile \u001b[39m\u001b[32m~/.local/lib/python3.12/site-packages/azure/core/pipeline/_base.py:98\u001b[39m, in \u001b[36m_SansIOHTTPPolicyRunner.send\u001b[39m\u001b[34m(self, request)\u001b[39m\n\u001b[32m     96\u001b[39m _await_result(\u001b[38;5;28mself\u001b[39m._policy.on_request, request)\n\u001b[32m     97\u001b[39m \u001b[38;5;28;01mtry\u001b[39;00m:\n\u001b[32m---> \u001b[39m\u001b[32m98\u001b[39m     response = \u001b[38;5;28;43mself\u001b[39;49m\u001b[43m.\u001b[49m\u001b[43mnext\u001b[49m\u001b[43m.\u001b[49m\u001b[43msend\u001b[49m\u001b[43m(\u001b[49m\u001b[43mrequest\u001b[49m\u001b[43m)\u001b[49m\n\u001b[32m     99\u001b[39m \u001b[38;5;28;01mexcept\u001b[39;00m \u001b[38;5;167;01mException\u001b[39;00m:\n\u001b[32m    100\u001b[39m     _await_result(\u001b[38;5;28mself\u001b[39m._policy.on_exception, request)\n",
      "\u001b[36mFile \u001b[39m\u001b[32m~/.local/lib/python3.12/site-packages/azure/core/pipeline/policies/_redirect.py:205\u001b[39m, in \u001b[36mRedirectPolicy.send\u001b[39m\u001b[34m(self, request)\u001b[39m\n\u001b[32m    203\u001b[39m original_domain = get_domain(request.http_request.url) \u001b[38;5;28;01mif\u001b[39;00m redirect_settings[\u001b[33m\"\u001b[39m\u001b[33mallow\u001b[39m\u001b[33m\"\u001b[39m] \u001b[38;5;28;01melse\u001b[39;00m \u001b[38;5;28;01mNone\u001b[39;00m\n\u001b[32m    204\u001b[39m \u001b[38;5;28;01mwhile\u001b[39;00m retryable:\n\u001b[32m--> \u001b[39m\u001b[32m205\u001b[39m     response = \u001b[38;5;28;43mself\u001b[39;49m\u001b[43m.\u001b[49m\u001b[43mnext\u001b[49m\u001b[43m.\u001b[49m\u001b[43msend\u001b[49m\u001b[43m(\u001b[49m\u001b[43mrequest\u001b[49m\u001b[43m)\u001b[49m\n\u001b[32m    206\u001b[39m     redirect_location = \u001b[38;5;28mself\u001b[39m.get_redirect_location(response)\n\u001b[32m    207\u001b[39m     \u001b[38;5;28;01mif\u001b[39;00m redirect_location \u001b[38;5;129;01mand\u001b[39;00m redirect_settings[\u001b[33m\"\u001b[39m\u001b[33mallow\u001b[39m\u001b[33m\"\u001b[39m]:\n",
      "\u001b[36mFile \u001b[39m\u001b[32m~/.local/lib/python3.12/site-packages/azure/core/pipeline/policies/_retry.py:545\u001b[39m, in \u001b[36mRetryPolicy.send\u001b[39m\u001b[34m(self, request)\u001b[39m\n\u001b[32m    543\u001b[39m \u001b[38;5;28mself\u001b[39m._configure_timeout(request, absolute_timeout, is_response_error)\n\u001b[32m    544\u001b[39m request.context[\u001b[33m\"\u001b[39m\u001b[33mretry_count\u001b[39m\u001b[33m\"\u001b[39m] = \u001b[38;5;28mlen\u001b[39m(retry_settings[\u001b[33m\"\u001b[39m\u001b[33mhistory\u001b[39m\u001b[33m\"\u001b[39m])\n\u001b[32m--> \u001b[39m\u001b[32m545\u001b[39m response = \u001b[38;5;28;43mself\u001b[39;49m\u001b[43m.\u001b[49m\u001b[43mnext\u001b[49m\u001b[43m.\u001b[49m\u001b[43msend\u001b[49m\u001b[43m(\u001b[49m\u001b[43mrequest\u001b[49m\u001b[43m)\u001b[49m\n\u001b[32m    546\u001b[39m \u001b[38;5;28;01mif\u001b[39;00m \u001b[38;5;28mself\u001b[39m.is_retry(retry_settings, response):\n\u001b[32m    547\u001b[39m     retry_active = \u001b[38;5;28mself\u001b[39m.increment(retry_settings, response=response)\n",
      "\u001b[36mFile \u001b[39m\u001b[32m~/.local/lib/python3.12/site-packages/azure/core/pipeline/policies/_authentication.py:157\u001b[39m, in \u001b[36mBearerTokenCredentialPolicy.send\u001b[39m\u001b[34m(self, request)\u001b[39m\n\u001b[32m    149\u001b[39m \u001b[38;5;28;01mdef\u001b[39;00m\u001b[38;5;250m \u001b[39m\u001b[34msend\u001b[39m(\u001b[38;5;28mself\u001b[39m, request: PipelineRequest[HTTPRequestType]) -> PipelineResponse[HTTPRequestType, HTTPResponseType]:\n\u001b[32m    150\u001b[39m \u001b[38;5;250m    \u001b[39m\u001b[33;03m\"\"\"Authorize request with a bearer token and send it to the next policy\u001b[39;00m\n\u001b[32m    151\u001b[39m \n\u001b[32m    152\u001b[39m \u001b[33;03m    :param request: The pipeline request object\u001b[39;00m\n\u001b[32m   (...)\u001b[39m\u001b[32m    155\u001b[39m \u001b[33;03m    :rtype: ~azure.core.pipeline.PipelineResponse\u001b[39;00m\n\u001b[32m    156\u001b[39m \u001b[33;03m    \"\"\"\u001b[39;00m\n\u001b[32m--> \u001b[39m\u001b[32m157\u001b[39m     \u001b[38;5;28;43mself\u001b[39;49m\u001b[43m.\u001b[49m\u001b[43mon_request\u001b[49m\u001b[43m(\u001b[49m\u001b[43mrequest\u001b[49m\u001b[43m)\u001b[49m\n\u001b[32m    158\u001b[39m     \u001b[38;5;28;01mtry\u001b[39;00m:\n\u001b[32m    159\u001b[39m         response = \u001b[38;5;28mself\u001b[39m.next.send(request)\n",
      "\u001b[36mFile \u001b[39m\u001b[32m~/.local/lib/python3.12/site-packages/azure/core/pipeline/policies/_authentication.py:132\u001b[39m, in \u001b[36mBearerTokenCredentialPolicy.on_request\u001b[39m\u001b[34m(self, request)\u001b[39m\n\u001b[32m    129\u001b[39m \u001b[38;5;28mself\u001b[39m._enforce_https(request)\n\u001b[32m    131\u001b[39m \u001b[38;5;28;01mif\u001b[39;00m \u001b[38;5;28mself\u001b[39m._token \u001b[38;5;129;01mis\u001b[39;00m \u001b[38;5;28;01mNone\u001b[39;00m \u001b[38;5;129;01mor\u001b[39;00m \u001b[38;5;28mself\u001b[39m._need_new_token:\n\u001b[32m--> \u001b[39m\u001b[32m132\u001b[39m     \u001b[38;5;28;43mself\u001b[39;49m\u001b[43m.\u001b[49m\u001b[43m_request_token\u001b[49m\u001b[43m(\u001b[49m\u001b[43m*\u001b[49m\u001b[38;5;28;43mself\u001b[39;49m\u001b[43m.\u001b[49m\u001b[43m_scopes\u001b[49m\u001b[43m)\u001b[49m\n\u001b[32m    133\u001b[39m bearer_token = cast(Union[\u001b[33m\"\u001b[39m\u001b[33mAccessToken\u001b[39m\u001b[33m\"\u001b[39m, \u001b[33m\"\u001b[39m\u001b[33mAccessTokenInfo\u001b[39m\u001b[33m\"\u001b[39m], \u001b[38;5;28mself\u001b[39m._token).token\n\u001b[32m    134\u001b[39m \u001b[38;5;28mself\u001b[39m._update_headers(request.http_request.headers, bearer_token)\n",
      "\u001b[36mFile \u001b[39m\u001b[32m~/.local/lib/python3.12/site-packages/azure/core/pipeline/policies/_authentication.py:108\u001b[39m, in \u001b[36m_BearerTokenCredentialPolicyBase._request_token\u001b[39m\u001b[34m(self, *scopes, **kwargs)\u001b[39m\n\u001b[32m    101\u001b[39m \u001b[38;5;28;01mdef\u001b[39;00m\u001b[38;5;250m \u001b[39m\u001b[34m_request_token\u001b[39m(\u001b[38;5;28mself\u001b[39m, *scopes: \u001b[38;5;28mstr\u001b[39m, **kwargs: Any) -> \u001b[38;5;28;01mNone\u001b[39;00m:\n\u001b[32m    102\u001b[39m \u001b[38;5;250m    \u001b[39m\u001b[33;03m\"\"\"Request a new token from the credential.\u001b[39;00m\n\u001b[32m    103\u001b[39m \n\u001b[32m    104\u001b[39m \u001b[33;03m    This will call the credential's appropriate method to get a token and store it in the policy.\u001b[39;00m\n\u001b[32m    105\u001b[39m \n\u001b[32m    106\u001b[39m \u001b[33;03m    :param str scopes: The type of access needed.\u001b[39;00m\n\u001b[32m    107\u001b[39m \u001b[33;03m    \"\"\"\u001b[39;00m\n\u001b[32m--> \u001b[39m\u001b[32m108\u001b[39m     \u001b[38;5;28mself\u001b[39m._token = \u001b[38;5;28;43mself\u001b[39;49m\u001b[43m.\u001b[49m\u001b[43m_get_token\u001b[49m\u001b[43m(\u001b[49m\u001b[43m*\u001b[49m\u001b[43mscopes\u001b[49m\u001b[43m,\u001b[49m\u001b[43m \u001b[49m\u001b[43m*\u001b[49m\u001b[43m*\u001b[49m\u001b[43mkwargs\u001b[49m\u001b[43m)\u001b[49m\n",
      "\u001b[36mFile \u001b[39m\u001b[32m~/.local/lib/python3.12/site-packages/azure/core/pipeline/policies/_authentication.py:98\u001b[39m, in \u001b[36m_BearerTokenCredentialPolicyBase._get_token\u001b[39m\u001b[34m(self, *scopes, **kwargs)\u001b[39m\n\u001b[32m     95\u001b[39m         \u001b[38;5;28;01mif\u001b[39;00m key \u001b[38;5;129;01min\u001b[39;00m TokenRequestOptions.\u001b[34m__annotations__\u001b[39m:  \u001b[38;5;66;03m# pylint: disable=no-member\u001b[39;00m\n\u001b[32m     96\u001b[39m             options[key] = kwargs.pop(key)  \u001b[38;5;66;03m# type: ignore[literal-required]\u001b[39;00m\n\u001b[32m---> \u001b[39m\u001b[32m98\u001b[39m     \u001b[38;5;28;01mreturn\u001b[39;00m \u001b[43mcast\u001b[49m\u001b[43m(\u001b[49m\u001b[43mSupportsTokenInfo\u001b[49m\u001b[43m,\u001b[49m\u001b[43m \u001b[49m\u001b[38;5;28;43mself\u001b[39;49m\u001b[43m.\u001b[49m\u001b[43m_credential\u001b[49m\u001b[43m)\u001b[49m\u001b[43m.\u001b[49m\u001b[43mget_token_info\u001b[49m\u001b[43m(\u001b[49m\u001b[43m*\u001b[49m\u001b[43mscopes\u001b[49m\u001b[43m,\u001b[49m\u001b[43m \u001b[49m\u001b[43moptions\u001b[49m\u001b[43m=\u001b[49m\u001b[43moptions\u001b[49m\u001b[43m)\u001b[49m\n\u001b[32m     99\u001b[39m \u001b[38;5;28;01mreturn\u001b[39;00m cast(TokenCredential, \u001b[38;5;28mself\u001b[39m._credential).get_token(*scopes, **kwargs)\n",
      "\u001b[36mFile \u001b[39m\u001b[32m~/.local/lib/python3.12/site-packages/azure/identity/_credentials/default.py:367\u001b[39m, in \u001b[36mDefaultAzureCredential.get_token_info\u001b[39m\u001b[34m(self, options, *scopes)\u001b[39m\n\u001b[32m    365\u001b[39m within_dac.set(\u001b[38;5;28;01mTrue\u001b[39;00m)\n\u001b[32m    366\u001b[39m \u001b[38;5;28;01mtry\u001b[39;00m:\n\u001b[32m--> \u001b[39m\u001b[32m367\u001b[39m     token_info = \u001b[43mcast\u001b[49m\u001b[43m(\u001b[49m\u001b[43mSupportsTokenInfo\u001b[49m\u001b[43m,\u001b[49m\u001b[43m \u001b[49m\u001b[38;5;28;43msuper\u001b[39;49m\u001b[43m(\u001b[49m\u001b[43m)\u001b[49m\u001b[43m)\u001b[49m\u001b[43m.\u001b[49m\u001b[43mget_token_info\u001b[49m\u001b[43m(\u001b[49m\u001b[43m*\u001b[49m\u001b[43mscopes\u001b[49m\u001b[43m,\u001b[49m\u001b[43m \u001b[49m\u001b[43moptions\u001b[49m\u001b[43m=\u001b[49m\u001b[43moptions\u001b[49m\u001b[43m)\u001b[49m\n\u001b[32m    368\u001b[39m \u001b[38;5;28;01mfinally\u001b[39;00m:\n\u001b[32m    369\u001b[39m     within_dac.set(\u001b[38;5;28;01mFalse\u001b[39;00m)\n",
      "\u001b[36mFile \u001b[39m\u001b[32m~/.local/lib/python3.12/site-packages/azure/identity/_credentials/chained.py:225\u001b[39m, in \u001b[36mChainedTokenCredential.get_token_info\u001b[39m\u001b[34m(self, options, *scopes)\u001b[39m\n\u001b[32m    217\u001b[39m message = (\n\u001b[32m    218\u001b[39m     \u001b[38;5;28mself\u001b[39m.\u001b[34m__class__\u001b[39m.\u001b[34m__name__\u001b[39m\n\u001b[32m    219\u001b[39m     + \u001b[33m\"\u001b[39m\u001b[33m failed to retrieve a token from the included credentials.\u001b[39m\u001b[33m\"\u001b[39m\n\u001b[32m   (...)\u001b[39m\u001b[32m    222\u001b[39m     \u001b[33m\"\u001b[39m\u001b[33mhttps://aka.ms/azsdk/python/identity/defaultazurecredential/troubleshoot.\u001b[39m\u001b[33m\"\u001b[39m\n\u001b[32m    223\u001b[39m )\n\u001b[32m    224\u001b[39m _LOGGER.warning(message)\n\u001b[32m--> \u001b[39m\u001b[32m225\u001b[39m \u001b[38;5;28;01mraise\u001b[39;00m ClientAuthenticationError(message=message)\n",
      "\u001b[31mClientAuthenticationError\u001b[39m: DefaultAzureCredential failed to retrieve a token from the included credentials.\nAttempted credentials:\n\tEnvironmentCredential: EnvironmentCredential authentication unavailable. Environment variables are not fully configured.\nVisit https://aka.ms/azsdk/python/identity/environmentcredential/troubleshoot to troubleshoot this issue.\n\tWorkloadIdentityCredential: WorkloadIdentityCredential authentication unavailable. The workload options are not fully configured. See the troubleshooting guide for more information: https://aka.ms/azsdk/python/identity/workloadidentitycredential/troubleshoot. Missing required arguments: 'tenant_id', 'client_id', 'token_file_path'.\n\tManagedIdentityCredential: ManagedIdentityCredential authentication unavailable, no response from the IMDS endpoint. invalid_request\n\tSharedTokenCacheCredential: SharedTokenCacheCredential authentication unavailable. No accounts were found in the cache.\n\tVisualStudioCodeCredential: VisualStudioCodeCredential requires the user to be signed in to Azure via Visual Studio Code. Please ensure you have the Azure Resources extension installed and have signed in.\n\tAzureCliCredential: Please run 'az login' to set up an account\n\tAzurePowerShellCredential: PowerShell is not installed\n\tAzureDeveloperCliCredential: Azure Developer CLI could not be found. Please visit https://aka.ms/azure-dev for installation instructions and then,once installed, authenticate to your Azure account using 'azd auth login'.\n\tBrokerCredential: InteractiveBrowserBrokerCredential unavailable. Brokered authentication is only supported on Windows and WSL platforms.\nTo mitigate this issue, please refer to the troubleshooting guidelines here at https://aka.ms/azsdk/python/identity/defaultazurecredential/troubleshoot."
     ]
    }
   ],
   "source": [
    "agent_team.assemble_team()"
   ]
  },
  {
   "cell_type": "code",
   "execution_count": null,
   "id": "582976a3",
   "metadata": {},
   "outputs": [],
   "source": [
    "cx_request = \"\"\"\n",
    "    I want to build a RAG web application that uses Azure OpenAI to answer questions about my data. \n",
    "    Can you recommend an architecture for implementing this?\n",
    "\"\"\""
   ]
  },
  {
   "cell_type": "code",
   "execution_count": null,
   "id": "54ffa891",
   "metadata": {},
   "outputs": [
    {
     "name": "stdout",
     "output_type": "stream",
     "text": [
      "Created thread with ID: thread_bVvuvtKle1T3ewsNdACLZ58T\n",
      "Starting task for agent 'TeamLeader'. Requestor: 'user'. Task description: 'Please create a task for agent in the team that is best suited to next process the following request. \n",
      "Use the _create_task function available for you to create the task. The request is: \n",
      "\n",
      "    I want to build a RAG web application that uses Azure OpenAI to answer questions about my data. \n",
      "    Can you recommend an architecture for implementing this?\n",
      "\n",
      "'.\n",
      "Created message with ID: msg_GZ7At1d6H5VckaMrESAnCCte for task in thread thread_bVvuvtKle1T3ewsNdACLZ58T\n",
      "Found agent 'TeamLeader' for task recipient 'TeamLeader'\n",
      "Processing task for agent 'TeamLeader'\n",
      "run status for agent 'TeamLeader': RunStatus.QUEUED\n",
      "Submitted tool outputs for run run_tKWYdQadm2kZJE3sbtiuWD4e in thread thread_bVvuvtKle1T3ewsNdACLZ58T\n",
      "Created and processed run for agent 'TeamLeader', run ID: run_tKWYdQadm2kZJE3sbtiuWD4e\n",
      "Run outputs 'TeamLeader': RunStatus.COMPLETED\n",
      "Agent 'TeamLeader' completed task. Outcome: I have assigned the task to Specialist because they are an expert in Azure services and tools, which is crucial for recommending an appropriate architecture involving Azure OpenAI for the RAG web application. Once the Specialist provides the recommendation, we can proceed with further steps if needed.\n",
      "Starting task for agent 'Specialist'. Requestor: 'TeamLeader'. Task description: 'Recommend an architecture for implementing a RAG web application that uses Azure OpenAI to answer questions about user data.'.\n",
      "Created message with ID: msg_iRRFgzMjwRryG23cJ59KStRt for task in thread thread_bVvuvtKle1T3ewsNdACLZ58T\n",
      "Found agent 'Specialist' for task recipient 'Specialist'\n",
      "Processing task for agent 'Specialist'\n",
      "run status for agent 'Specialist': RunStatus.QUEUED\n",
      "Approving tool call: {'id': 'call_Cg3qGRzTm2mpXFgxMcsIcABI', 'type': 'mcp', 'arguments': '{\"question\":\"Architecture for a RAG web application using Azure OpenAI to answer questions about user data\"}', 'name': 'microsoft_docs_search', 'server_label': 'msdocs'}\n",
      "Created and processed run for agent 'Specialist', run ID: run_5opVv8ytMzyixCKHpyGlRStt\n",
      "Run outputs 'Specialist': RunStatus.COMPLETED\n",
      "Agent 'Specialist' completed task. Outcome: Here is a recommended architecture for implementing a Retrieval-Augmented Generation (RAG) web application that uses Azure OpenAI to answer questions about your data:\n",
      "\n",
      "1. User Interface (Web App):\n",
      "   - The user interacts with an intelligent web application through a user interface where they submit queries.\n",
      "\n",
      "2. Orchestrator Layer (Optional but recommended):\n",
      "   - An orchestrator (which can be implemented using Semantic Kernel, Azure AI Agent service, or LangChain) receives the user's query.\n",
      "   - The orchestrator performs a search query on Azure AI Search to retrieve relevant documents or data chunks related to the user's query.\n",
      "\n",
      "3. Azure AI Search:\n",
      "   - Azure AI Search is used as the vector search engine. It indexes your data after it has been processed and turned into embeddings (vector representations).\n",
      "   - The search engine returns the top N relevant documents or data chunks to the orchestrator.\n",
      "\n",
      "4. Azure OpenAI Service:\n",
      "   - The orchestrator sends the user's query along with the retrieved search results (as context) to the Azure OpenAI language model.\n",
      "   - The OpenAI model generates a response by combining the retrieved data and the user's query context.\n",
      "\n",
      "5. Data Pipeline (for processing and indexing data into Azure AI Search):\n",
      "   - Documents are ingested into the data pipeline.\n",
      "   - The pipeline processes documents by chunking them into semantically meaningful parts.\n",
      "   - Each chunk is enriched with metadata.\n",
      "   - The chunks are converted into embeddings using an embedding model.\n",
      "   - The resulting vectors and metadata are persisted to Azure AI Search for later retrieval.\n",
      "\n",
      "6. Response Delivery:\n",
      "   - The generated response from Azure OpenAI is sent back through the orchestrator to the web application.\n",
      "   - The web application presents the answer to the user, possibly with citations to the original source documents.\n",
      "\n",
      "Key advantages of this architecture:\n",
      "- Azure AI Search's integrated vectorization simplifies document ingestion and search.\n",
      "- Azure OpenAI's On Your Data pattern enables easy API calls that handle prompt engineering and query optimization.\n",
      "- Advanced hybrid search combines keyword matching, vector similarity, and AI-powered ranking.\n",
      "- Responses can include citations to source documents for verifiability.\n",
      "\n",
      "For detailed guidance, architectures, and code samples, you can visit the official Microsoft documentation here:\n",
      "https://learn.microsoft.com/en-us/azure/architecture/ai-ml/guide/rag/rag-solution-design-and-evaluation-guide#rag-architecture\n",
      "\n",
      "If you want, I can provide more detailed steps or specific code examples for parts of this architecture. Would you like me to do that?\n",
      "Starting task for agent 'TeamLeader'. Requestor: 'user'. Task description: 'Check the discussion so far and especially the most recent agent response in the thread and if you see a potential task \n",
      "that could improve the final outcome, then use the _create_task function to create the task. \n",
      "Do not ever ask user confirmation for creating a task. \n",
      "If the request is completely processed, you do not have to create a task.\n",
      "'.\n",
      "Created message with ID: msg_Siwqjdo56wZgInG4ctdCb7Sp for task in thread thread_bVvuvtKle1T3ewsNdACLZ58T\n",
      "Found agent 'TeamLeader' for task recipient 'TeamLeader'\n",
      "Processing task for agent 'TeamLeader'\n",
      "run status for agent 'TeamLeader': RunStatus.QUEUED\n",
      "Submitted tool outputs for run run_g7INfxk5Sp8KUTKUoqOeAa2N in thread thread_bVvuvtKle1T3ewsNdACLZ58T\n",
      "Created and processed run for agent 'TeamLeader', run ID: run_g7INfxk5Sp8KUTKUoqOeAa2N\n",
      "Run outputs 'TeamLeader': RunStatus.COMPLETED\n",
      "Agent 'TeamLeader' completed task. Outcome: I have assigned the task to Engineer to review the recommended architecture for implementing the RAG web application using Azure OpenAI. The Engineer will validate that the solution meets the requirements and is feasible for implementation, ensuring the final outcome's quality and reliability.\n",
      "Starting task for agent 'Engineer'. Requestor: 'TeamLeader'. Task description: 'Review the recommended architecture for implementing a RAG web application using Azure OpenAI to ensure it meets the requirements and is feasible for implementation.'.\n",
      "Created message with ID: msg_eEBY1eREuWX6SeozCwv6Y4Hv for task in thread thread_bVvuvtKle1T3ewsNdACLZ58T\n",
      "Found agent 'Engineer' for task recipient 'Engineer'\n",
      "Processing task for agent 'Engineer'\n",
      "run status for agent 'Engineer': RunStatus.QUEUED\n",
      "Created and processed run for agent 'Engineer', run ID: run_aNTKiSUn7zK2284Rzk2NOyNz\n",
      "Run outputs 'Engineer': RunStatus.COMPLETED\n",
      "Agent 'Engineer' completed task. Outcome: Review of the recommended architecture for implementing a RAG (Retrieval-Augmented Generation) web application using Azure OpenAI:\n",
      "\n",
      "1. Components & Flow:\n",
      "- User Interface (Web App): Appropriate as it provides a frontend for user interaction.\n",
      "- Orchestrator Layer: Suggested use of Semantic Kernel, Azure AI Agent service, or LangChain for query orchestration is suitable. Ensuring orchestration is crucial to handle search and generation flow.\n",
      "- Azure AI Search: Usage as the vector search engine is standard practice for RAG implementations. Properly indexing data as embeddings supports efficient retrieval.\n",
      "- Azure OpenAI Service: Combines user query and retrieved documents for generation, aligning with best practices for retrieval-augmented generation.\n",
      "- Data Pipeline: The ingestion, chunking, embedding, and indexing process is essential for supporting accurate search results.\n",
      "- Response Delivery: Sending the generated response back to the user with citations ensures verifiability and user trust.\n",
      "\n",
      "2. Architecture Best Practices:\n",
      "- Use of Azure AI Search integrated vectorization and hybrid search provides strong retrieval capability.\n",
      "- Leveraging Azure OpenAI \"On Your Data\" patterns simplifies development and improves response quality.\n",
      "- Including source citations enhances transparency and reliability.\n",
      "- Modular design allows components to be independently upgraded or replaced.\n",
      "\n",
      "3. Feasibility:\n",
      "- All proposed services and patterns are available in Azure and widely used.\n",
      "- The architecture supports scalability by leveraging cloud-native Azure services.\n",
      "- Developer tools and SDKs such as Semantic Kernel and LangChain support lossless integration.\n",
      "\n",
      "4. Recommendations:\n",
      "- Ensure proper security for data ingestion, storage, and API access.\n",
      "- Design the data pipeline to handle incremental data updates without re-indexing all data.\n",
      "- Monitor system performance and tune search and generation parameters to balance accuracy and latency.\n",
      "- Consider user experience features such as query suggestions, follow-up question handling, and response explanation.\n",
      "\n",
      "Conclusion:\n",
      "The recommended architecture is comprehensive, meets the requirements for a RAG web application using Azure OpenAI, and aligns with best practices. It is feasible for implementation in an Azure environment.\n",
      "\n",
      "No unnecessary or conflicting solutions were identified, so no removal is needed.\n",
      "\n",
      "If you require, I can assist further with detailed design, implementation steps, or code examples.\n",
      "Starting task for agent 'TeamLeader'. Requestor: 'user'. Task description: 'Check the discussion so far and especially the most recent agent response in the thread and if you see a potential task \n",
      "that could improve the final outcome, then use the _create_task function to create the task. \n",
      "Do not ever ask user confirmation for creating a task. \n",
      "If the request is completely processed, you do not have to create a task.\n",
      "'.\n",
      "Created message with ID: msg_vboOKLjJGSjNv7HnAugMPsRL for task in thread thread_bVvuvtKle1T3ewsNdACLZ58T\n",
      "Found agent 'TeamLeader' for task recipient 'TeamLeader'\n",
      "Processing task for agent 'TeamLeader'\n",
      "run status for agent 'TeamLeader': RunStatus.QUEUED\n",
      "Created and processed run for agent 'TeamLeader', run ID: run_gSbO5GfB8y6mKfyQ2kXjCMSP\n",
      "Run outputs 'TeamLeader': RunStatus.COMPLETED\n",
      "Agent 'TeamLeader' completed task. Outcome: The recommended architecture and its review have been completed, covering both the design and its feasibility. The initial user request to recommend an architecture for a RAG web application using Azure OpenAI has been thoroughly addressed.\n",
      "\n",
      "As the solution meets the requirements and no further improvement tasks are necessary from the current discussion, no additional tasks will be created. The request is now completely processed.\n"
     ]
    }
   ],
   "source": [
    "agent_team.process_request(request=cx_request)"
   ]
  },
  {
   "cell_type": "code",
   "execution_count": null,
   "id": "ce246a61",
   "metadata": {},
   "outputs": [],
   "source": [
    "agent_team.dismantle_team()"
   ]
  }
 ],
 "metadata": {
  "kernelspec": {
   "display_name": "Python 3",
   "language": "python",
   "name": "python3"
  },
  "language_info": {
   "codemirror_mode": {
    "name": "ipython",
    "version": 3
   },
   "file_extension": ".py",
   "mimetype": "text/x-python",
   "name": "python",
   "nbconvert_exporter": "python",
   "pygments_lexer": "ipython3",
   "version": "3.12.11"
  }
 },
 "nbformat": 4,
 "nbformat_minor": 5
}
